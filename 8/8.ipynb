{
 "cells": [
  {
   "cell_type": "code",
   "execution_count": null,
   "id": "2522a91f",
   "metadata": {},
   "outputs": [],
   "source": [
    "import pandas as pd\n",
    "\n",
    "import pandas as pd\n",
    "import numpy as np\n",
    "\n",
    "df = pd.read_csv(\"D:/Documents/Learning/3/R/ff.csv\", sep=',')\n",
    "# Сохранение DataFrame в формате Excel\n",
    "excel_file_path = 'ff.xlsx'\n",
    "df.to_excel(excel_file_path, index=False)"
   ]
  }
 ],
 "metadata": {
  "language_info": {
   "name": "python"
  }
 },
 "nbformat": 4,
 "nbformat_minor": 5
}
