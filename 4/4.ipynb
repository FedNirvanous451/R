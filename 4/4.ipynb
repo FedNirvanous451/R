{
 "cells": [
  {
   "cell_type": "code",
   "execution_count": 17,
   "metadata": {},
   "outputs": [
    {
     "data": {
      "text/html": [
       "<div>\n",
       "<style scoped>\n",
       "    .dataframe tbody tr th:only-of-type {\n",
       "        vertical-align: middle;\n",
       "    }\n",
       "\n",
       "    .dataframe tbody tr th {\n",
       "        vertical-align: top;\n",
       "    }\n",
       "\n",
       "    .dataframe thead th {\n",
       "        text-align: right;\n",
       "    }\n",
       "</style>\n",
       "<table border=\"1\" class=\"dataframe\">\n",
       "  <thead>\n",
       "    <tr style=\"text-align: right;\">\n",
       "      <th></th>\n",
       "      <th>BPM</th>\n",
       "      <th>RMS Energy</th>\n",
       "      <th>Zero-Crossing Rate</th>\n",
       "      <th>Жанр</th>\n",
       "      <th>Настроение</th>\n",
       "    </tr>\n",
       "  </thead>\n",
       "  <tbody>\n",
       "    <tr>\n",
       "      <th>0</th>\n",
       "      <td>107</td>\n",
       "      <td>0.667570</td>\n",
       "      <td>0.273374</td>\n",
       "      <td>рок</td>\n",
       "      <td>Веселое</td>\n",
       "    </tr>\n",
       "    <tr>\n",
       "      <th>1</th>\n",
       "      <td>91</td>\n",
       "      <td>0.206187</td>\n",
       "      <td>0.118396</td>\n",
       "      <td>хип-хоп</td>\n",
       "      <td>Спокойное</td>\n",
       "    </tr>\n",
       "    <tr>\n",
       "      <th>2</th>\n",
       "      <td>72</td>\n",
       "      <td>0.239163</td>\n",
       "      <td>0.070668</td>\n",
       "      <td>хип-хоп</td>\n",
       "      <td>Грустное</td>\n",
       "    </tr>\n",
       "    <tr>\n",
       "      <th>3</th>\n",
       "      <td>118</td>\n",
       "      <td>0.448361</td>\n",
       "      <td>0.107527</td>\n",
       "      <td>поп</td>\n",
       "      <td>Веселое</td>\n",
       "    </tr>\n",
       "    <tr>\n",
       "      <th>4</th>\n",
       "      <td>100</td>\n",
       "      <td>0.739468</td>\n",
       "      <td>0.195543</td>\n",
       "      <td>рок</td>\n",
       "      <td>Спокойное</td>\n",
       "    </tr>\n",
       "    <tr>\n",
       "      <th>...</th>\n",
       "      <td>...</td>\n",
       "      <td>...</td>\n",
       "      <td>...</td>\n",
       "      <td>...</td>\n",
       "      <td>...</td>\n",
       "    </tr>\n",
       "    <tr>\n",
       "      <th>195</th>\n",
       "      <td>141</td>\n",
       "      <td>0.699088</td>\n",
       "      <td>0.276072</td>\n",
       "      <td>рок</td>\n",
       "      <td>Веселое</td>\n",
       "    </tr>\n",
       "    <tr>\n",
       "      <th>196</th>\n",
       "      <td>72</td>\n",
       "      <td>0.236141</td>\n",
       "      <td>0.103938</td>\n",
       "      <td>хип-хоп</td>\n",
       "      <td>Веселое</td>\n",
       "    </tr>\n",
       "    <tr>\n",
       "      <th>197</th>\n",
       "      <td>123</td>\n",
       "      <td>0.573758</td>\n",
       "      <td>0.293730</td>\n",
       "      <td>рок</td>\n",
       "      <td>Грустное</td>\n",
       "    </tr>\n",
       "    <tr>\n",
       "      <th>198</th>\n",
       "      <td>122</td>\n",
       "      <td>0.217458</td>\n",
       "      <td>0.173312</td>\n",
       "      <td>поп</td>\n",
       "      <td>Энергичное</td>\n",
       "    </tr>\n",
       "    <tr>\n",
       "      <th>199</th>\n",
       "      <td>134</td>\n",
       "      <td>0.797820</td>\n",
       "      <td>0.202665</td>\n",
       "      <td>рок</td>\n",
       "      <td>Веселое</td>\n",
       "    </tr>\n",
       "  </tbody>\n",
       "</table>\n",
       "<p>200 rows × 5 columns</p>\n",
       "</div>"
      ],
      "text/plain": [
       "     BPM  RMS Energy  Zero-Crossing Rate     Жанр  Настроение\n",
       "0    107    0.667570            0.273374      рок     Веселое\n",
       "1     91    0.206187            0.118396  хип-хоп   Спокойное\n",
       "2     72    0.239163            0.070668  хип-хоп    Грустное\n",
       "3    118    0.448361            0.107527      поп     Веселое\n",
       "4    100    0.739468            0.195543      рок   Спокойное\n",
       "..   ...         ...                 ...      ...         ...\n",
       "195  141    0.699088            0.276072      рок     Веселое\n",
       "196   72    0.236141            0.103938  хип-хоп     Веселое\n",
       "197  123    0.573758            0.293730      рок    Грустное\n",
       "198  122    0.217458            0.173312      поп  Энергичное\n",
       "199  134    0.797820            0.202665      рок     Веселое\n",
       "\n",
       "[200 rows x 5 columns]"
      ]
     },
     "execution_count": 17,
     "metadata": {},
     "output_type": "execute_result"
    }
   ],
   "source": [
    "import pandas as pd\n",
    "import numpy as np\n",
    "\n",
    "df = pd.read_csv(\"../music_genre_dataset_with_mood.csv\", sep=',')\n",
    "df"
   ]
  },
  {
   "cell_type": "code",
   "execution_count": 19,
   "metadata": {},
   "outputs": [
    {
     "name": "stdout",
     "output_type": "stream",
     "text": [
      "Среднее: 111.12\n",
      "Медиана: 109.0\n",
      "Дисперсия: 486.7956\n",
      "Мода: ModeResult(mode=134, count=7)\n",
      "Стандартное отклонение: 22.063444880616444\n"
     ]
    }
   ],
   "source": [
    "import numpy as np\n",
    "import scipy.stats as stats\n",
    "\n",
    "mean_value = np.mean(df['BPM'])\n",
    "median_value = np.median(df['BPM'])  \n",
    "mode_value = stats.mode(df['BPM'])\n",
    "variance = np.var(df['BPM'])\n",
    "std_dev = np.std(df['BPM'])\n",
    "\n",
    "print(\"Среднее:\", mean_value)\n",
    "print(\"Медиана:\", median_value)\n",
    "print(\"Дисперсия:\", variance)\n",
    "print(\"Мода:\", mode_value)\n",
    "print(\"Стандартное отклонение:\", std_dev)"
   ]
  },
  {
   "cell_type": "markdown",
   "metadata": {},
   "source": [
    "## P-value, U-статистика, Хи-квадрат\n",
    "\n",
    "P-value - чем меньше p-значение, тем более значимым будет результат, потому что с меньшей вероятностью будет вызван шумом.\n",
    "\n",
    "U-статистика - определяет, достаточно ли мала зона перекрещивающихся значений между двумя рядами (ранжированным рядом значений параметра в первой выборке и таким же во второй выборке). Чем меньше значение критерия, тем вероятнее, что различия между значениями параметра в выборках достоверны.\n",
    "\n",
    "Хи-квадрат - используют, когда нужно определить наличие или отсутствие связи между двумя категориальными переменными — такими, которые могут принимать ограниченное количество уникальных значений. Категориальные переменные обычно не имеют числовых значений: например, цвет волос или любимое блюдо. Еще употребляют фразу «переменные, распределенные по номинальной шкале» – это означает примерно то же."
   ]
  },
  {
   "cell_type": "code",
   "execution_count": 20,
   "metadata": {},
   "outputs": [
    {
     "name": "stdout",
     "output_type": "stream",
     "text": [
      "t-статистика: 16.036541965221023 p-значение: 1.3304053172087315e-32\n"
     ]
    }
   ],
   "source": [
    "group1 = df[df['Жанр'] == 'рок']['BPM']\n",
    "group2 = df[df['Жанр'] == 'хип-хоп']['BPM']\n",
    "t_stat, p_value = stats.ttest_ind(group1, group2)\n",
    "print(\"t-статистика:\", t_stat, \"p-значение:\", p_value)"
   ]
  },
  {
   "cell_type": "code",
   "execution_count": 21,
   "metadata": {},
   "outputs": [
    {
     "name": "stdout",
     "output_type": "stream",
     "text": [
      "U-статистика: 4268.5 p-значение: 1.8398245520485363e-21\n"
     ]
    }
   ],
   "source": [
    "u_stat, p_value = stats.mannwhitneyu(group1, group2)\n",
    "print(\"U-статистика:\", u_stat, \"p-значение:\", p_value)"
   ]
  },
  {
   "cell_type": "code",
   "execution_count": 22,
   "metadata": {},
   "outputs": [
    {
     "name": "stdout",
     "output_type": "stream",
     "text": [
      "Хи-квадрат: 4.412879687057155 p-значение: 0.6209874571848064\n"
     ]
    }
   ],
   "source": [
    "contingency_table = pd.crosstab(df['Жанр'], df['Настроение'])\n",
    "chi2_stat, p_value, dof, expected = stats.chi2_contingency(contingency_table)\n",
    "print(\"Хи-квадрат:\", chi2_stat, \"p-значение:\", p_value)"
   ]
  }
 ],
 "metadata": {
  "kernelspec": {
   "display_name": "Python 3",
   "language": "python",
   "name": "python3"
  },
  "language_info": {
   "codemirror_mode": {
    "name": "ipython",
    "version": 3
   },
   "file_extension": ".py",
   "mimetype": "text/x-python",
   "name": "python",
   "nbconvert_exporter": "python",
   "pygments_lexer": "ipython3",
   "version": "3.12.6"
  }
 },
 "nbformat": 4,
 "nbformat_minor": 2
}
