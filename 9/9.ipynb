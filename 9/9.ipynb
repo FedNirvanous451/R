{
 "cells": [
  {
   "cell_type": "code",
   "execution_count": 11,
   "id": "9873d371",
   "metadata": {},
   "outputs": [],
   "source": [
    "import pandas as pd\n",
    "import numpy as np\n",
    "import statsmodels.api as sm\n",
    "import seaborn as sbns  \n",
    "import matplotlib.pyplot as plt\n",
    "from sklearn.model_selection import train_test_split\n",
    "from sklearn.linear_model import LogisticRegression\n",
    "from sklearn.metrics import accuracy_score, precision_score, recall_score"
   ]
  },
  {
   "cell_type": "code",
   "execution_count": 10,
   "id": "f6a759de",
   "metadata": {},
   "outputs": [],
   "source": [
    "df_ = pd.read_csv(\"../music_data_encoded.csv\", sep=',')\n",
    "df_ = df_.drop('Жанр', axis=1)\n",
    "X = df_.drop('Код.Жанра', axis=1)\n",
    "Y = df_['Код.Жанра']\n",
    "x_train, x_test, y_train, y_test = train_test_split(X, Y, test_size = 0.2, random_state = 42)"
   ]
  },
  {
   "cell_type": "code",
   "execution_count": 12,
   "id": "172d6efb",
   "metadata": {},
   "outputs": [
    {
     "name": "stdout",
     "output_type": "stream",
     "text": [
      "accuracy : 0.75\n",
      "precision : 0.7826388888888889\n",
      "recall : 0.75\n"
     ]
    },
    {
     "name": "stderr",
     "output_type": "stream",
     "text": [
      "c:\\Program Files\\Python\\Lib\\site-packages\\sklearn\\linear_model\\_logistic.py:469: ConvergenceWarning: lbfgs failed to converge (status=1):\n",
      "STOP: TOTAL NO. of ITERATIONS REACHED LIMIT.\n",
      "\n",
      "Increase the number of iterations (max_iter) or scale the data as shown in:\n",
      "    https://scikit-learn.org/stable/modules/preprocessing.html\n",
      "Please also refer to the documentation for alternative solver options:\n",
      "    https://scikit-learn.org/stable/modules/linear_model.html#logistic-regression\n",
      "  n_iter_i = _check_optimize_result(\n"
     ]
    }
   ],
   "source": [
    "# Обучение модели логистической регрессии\n",
    "log_reg = LogisticRegression(max_iter=100)\n",
    "log_reg.fit(x_train, y_train)\n",
    "\n",
    "# Предсказание на тестовой выборке\n",
    "y_pred_log_reg = log_reg.predict(x_test)\n",
    "\n",
    "# Вычисление метрик\n",
    "accuracy1 = accuracy_score(y_test, y_pred_log_reg)\n",
    "precision1 = precision_score(y_test, y_pred_log_reg, average='weighted')\n",
    "recall1 = recall_score(y_test, y_pred_log_reg, average='weighted')\n",
    "\n",
    "print(\"accuracy :\", accuracy1)\n",
    "print(\"precision :\", precision1)\n",
    "print(\"recall :\", recall1)"
   ]
  },
  {
   "cell_type": "code",
   "execution_count": 13,
   "id": "2891b228",
   "metadata": {},
   "outputs": [
    {
     "name": "stdout",
     "output_type": "stream",
     "text": [
      "accuracy_knn:  0.825\n",
      "precision_knn:  0.8309065934065935\n",
      "recall_knn:  0.825\n"
     ]
    }
   ],
   "source": [
    "from sklearn.neighbors import KNeighborsClassifier\n",
    "\n",
    "\n",
    "# Создание и обучение модели KNN\n",
    "knn = KNeighborsClassifier(n_neighbors=3)\n",
    "knn.fit(x_train, y_train)\n",
    "\n",
    "# Предсказание на тестовой выборке\n",
    "y_pred_knn = knn.predict(x_test)\n",
    "\n",
    "# Вычисление метрик\n",
    "acc_knn = accuracy_score(y_test, y_pred_knn)\n",
    "pre_knn = precision_score(y_test, y_pred_knn, average='weighted')\n",
    "rec_knn = recall_score(y_test, y_pred_knn, average='weighted')\n",
    "\n",
    "print(\"accuracy_knn: \", acc_knn)\n",
    "print(\"precision_knn: \", pre_knn)\n",
    "print(\"recall_knn: \", rec_knn)"
   ]
  }
 ],
 "metadata": {
  "kernelspec": {
   "display_name": "Python 3",
   "language": "python",
   "name": "python3"
  },
  "language_info": {
   "codemirror_mode": {
    "name": "ipython",
    "version": 3
   },
   "file_extension": ".py",
   "mimetype": "text/x-python",
   "name": "python",
   "nbconvert_exporter": "python",
   "pygments_lexer": "ipython3",
   "version": "3.12.6"
  }
 },
 "nbformat": 4,
 "nbformat_minor": 5
}
